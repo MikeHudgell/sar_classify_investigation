{
 "cells": [
  {
   "cell_type": "markdown",
   "metadata": {},
   "source": [
    "# Convert tif to png"
   ]
  },
  {
   "cell_type": "code",
   "execution_count": 17,
   "metadata": {},
   "outputs": [],
   "source": [
    "import numpy as np\n",
    "import os\n",
    "import scipy.misc\n",
    "import rasterio"
   ]
  },
  {
   "cell_type": "code",
   "execution_count": 18,
   "metadata": {
    "collapsed": true
   },
   "outputs": [],
   "source": [
    "training_crops_dir = \"/home/mike/git/temp_sar/resources/training/50x50/turbine\""
   ]
  },
  {
   "cell_type": "code",
   "execution_count": 20,
   "metadata": {},
   "outputs": [],
   "source": [
    "for file in os.listdir(training_crops_dir):\n",
    "    if file.endswith(\".tif\"):\n",
    "        with rasterio.open(os.path.join(training_crops_dir, file), mode=\"r\") as raster:\n",
    "            img_array = raster.read(1)\n",
    "        #image = scipy.misc.imread(os.path.join(training_crops_dir, file), 0)\n",
    "        output_filename = file.replace(\".tif\", \".png\")    \n",
    "        scipy.misc.imsave(os.path.join(training_crops_dir, output_filename), img_array)"
   ]
  },
  {
   "cell_type": "code",
   "execution_count": null,
   "metadata": {
    "collapsed": true
   },
   "outputs": [],
   "source": []
  }
 ],
 "metadata": {
  "kernelspec": {
   "display_name": "Python 3",
   "language": "python",
   "name": "python3"
  },
  "language_info": {
   "codemirror_mode": {
    "name": "ipython",
    "version": 3
   },
   "file_extension": ".py",
   "mimetype": "text/x-python",
   "name": "python",
   "nbconvert_exporter": "python",
   "pygments_lexer": "ipython3",
   "version": "3.6.3"
  }
 },
 "nbformat": 4,
 "nbformat_minor": 2
}
