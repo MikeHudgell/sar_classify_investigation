{
 "cells": [
  {
   "cell_type": "markdown",
   "metadata": {
    "collapsed": true
   },
   "source": [
    "# Classifier visualisation"
   ]
  },
  {
   "cell_type": "code",
   "execution_count": 48,
   "metadata": {
    "scrolled": true
   },
   "outputs": [
    {
     "name": "stdout",
     "output_type": "stream",
     "text": [
      "2.1.2\n",
      "0.19.1\n",
      "2.1.0\n",
      "1.13.3\n"
     ]
    }
   ],
   "source": [
    "#\n",
    "# imports\n",
    "#\n",
    "import geopandas as gpd\n",
    "import matplotlib.pyplot as plt\n",
    "import numpy as np\n",
    "import os\n",
    "import random\n",
    "from mpl_toolkits.mplot3d import Axes3D\n",
    "\n",
    "import matplotlib.pyplot as plt \n",
    "import scipy.misc\n",
    "import numpy as np\n",
    "from keras.layers import Dense, Dropout, Flatten, Input, Conv2D, Cropping2D\n",
    "from keras.layers import MaxPooling2D, ZeroPadding2D, BatchNormalization, Activation, merge, GlobalAveragePooling2D\n",
    "from keras.layers.merge import Add, Multiply, Average, Maximum, Concatenate, Dot\n",
    "from keras.models import Model\n",
    "from keras.utils.layer_utils import print_summary\n",
    "from keras.preprocessing.image import ImageDataGenerator\n",
    "from keras import backend as K\n",
    "from keras.models import load_model\n",
    "import  keras.utils\n",
    "\n",
    "from keras import __version__ as kv\n",
    "from scipy import __version__ as sv\n",
    "from matplotlib import __version__ as mv\n",
    "from numpy import __version__ as nv\n",
    "\n",
    "print(kv)\n",
    "print(sv)\n",
    "print(mv)\n",
    "print(nv)"
   ]
  },
  {
   "cell_type": "code",
   "execution_count": 49,
   "metadata": {
    "collapsed": true,
    "scrolled": true
   },
   "outputs": [],
   "source": [
    "#\n",
    "# setup paths\n",
    "#\n",
    "top_dir = \"/home/mike/git//sar_classify_investigation/resources\"\n",
    "\n",
    "model_dir = top_dir + \"/model_v1.0\"\n",
    "crops_dir = top_dir  + \"/crops\"   # chinese turbine crops\n",
    "shapefile_dir = top_dir + \"/results_shapefile\"\n",
    "training_crops_dir = top_dir + \"/training/50x50/turbine\" "
   ]
  },
  {
   "cell_type": "code",
   "execution_count": 50,
   "metadata": {
    "scrolled": true
   },
   "outputs": [],
   "source": [
    "#\n",
    "# load models\n",
    "#\n",
    "cnn_50x50 = load_model(os.path.join(model_dir, \"fcn_50x50_v1.h5\"))\n"
   ]
  },
  {
   "cell_type": "code",
   "execution_count": 51,
   "metadata": {
    "collapsed": true,
    "scrolled": true
   },
   "outputs": [],
   "source": [
    "#\n",
    "# load results shapefile\n",
    "#\n",
    "results_df = gpd.read_file(os.path.join(shapefile_dir, \"S1A_IW_GRDH_1SDV_20170924T100355_20170924T100420_018516_01F333_9052_withactual.shp\"))\n"
   ]
  },
  {
   "cell_type": "code",
   "execution_count": 52,
   "metadata": {},
   "outputs": [
    {
     "name": "stdout",
     "output_type": "stream",
     "text": [
      "__________________________________________________________________________________________________\n",
      "Layer (type)                    Output Shape         Param #     Connected to                     \n",
      "==================================================================================================\n",
      "input_7 (InputLayer)            (None, 50, 50, 1)    0                                            \n",
      "__________________________________________________________________________________________________\n",
      "conv2d_19 (Conv2D)              (None, 50, 50, 32)   320         input_7[0][0]                    \n",
      "__________________________________________________________________________________________________\n",
      "max_pooling2d_13 (MaxPooling2D) (None, 25, 25, 32)   0           conv2d_19[0][0]                  \n",
      "__________________________________________________________________________________________________\n",
      "conv2d_20 (Conv2D)              (None, 25, 25, 64)   18496       max_pooling2d_13[0][0]           \n",
      "__________________________________________________________________________________________________\n",
      "max_pooling2d_14 (MaxPooling2D) (None, 12, 12, 64)   0           conv2d_20[0][0]                  \n",
      "__________________________________________________________________________________________________\n",
      "conv2d_21 (Conv2D)              (None, 12, 12, 64)   36928       max_pooling2d_14[0][0]           \n",
      "__________________________________________________________________________________________________\n",
      "batch_normalization_10 (BatchNo (None, 12, 12, 64)   256         conv2d_21[0][0]                  \n",
      "__________________________________________________________________________________________________\n",
      "conv2d_22 (Conv2D)              (None, 12, 12, 64)   36928       batch_normalization_10[0][0]     \n",
      "__________________________________________________________________________________________________\n",
      "batch_normalization_11 (BatchNo (None, 12, 12, 64)   256         conv2d_22[0][0]                  \n",
      "__________________________________________________________________________________________________\n",
      "max_pooling2d_15 (MaxPooling2D) (None, 6, 6, 64)     0           batch_normalization_11[0][0]     \n",
      "__________________________________________________________________________________________________\n",
      "conv2d_23 (Conv2D)              (None, 6, 6, 64)     36928       max_pooling2d_15[0][0]           \n",
      "__________________________________________________________________________________________________\n",
      "batch_normalization_12 (BatchNo (None, 6, 6, 64)     256         conv2d_23[0][0]                  \n",
      "__________________________________________________________________________________________________\n",
      "max_pooling2d_16 (MaxPooling2D) (None, 3, 3, 64)     0           batch_normalization_12[0][0]     \n",
      "__________________________________________________________________________________________________\n",
      "dropout_4 (Dropout)             (None, 3, 3, 64)     0           max_pooling2d_16[0][0]           \n",
      "__________________________________________________________________________________________________\n",
      "conv2d_24 (Conv2D)              (None, 3, 3, 3)      1731        dropout_4[0][0]                  \n",
      "__________________________________________________________________________________________________\n",
      "dropout_5 (Dropout)             (None, 3, 3, 3)      0           conv2d_24[0][0]                  \n",
      "__________________________________________________________________________________________________\n",
      "input_8 (InputLayer)            (None, 1)            0                                            \n",
      "__________________________________________________________________________________________________\n",
      "global_average_pooling2d_4 (Glo (None, 3)            0           dropout_5[0][0]                  \n",
      "__________________________________________________________________________________________________\n",
      "add_4 (Add)                     (None, 3)            0           input_8[0][0]                    \n",
      "                                                                 global_average_pooling2d_4[0][0] \n",
      "__________________________________________________________________________________________________\n",
      "activation_4 (Activation)       (None, 3)            0           add_4[0][0]                      \n",
      "==================================================================================================\n",
      "Total params: 132,099\n",
      "Trainable params: 131,715\n",
      "Non-trainable params: 384\n",
      "__________________________________________________________________________________________________\n"
     ]
    }
   ],
   "source": [
    "cnn_50x50.summary()"
   ]
  },
  {
   "cell_type": "code",
   "execution_count": 53,
   "metadata": {
    "scrolled": true
   },
   "outputs": [],
   "source": [
    "# \n",
    "# load Chinese 50x50 crops\n",
    "#\n",
    "list_of_50x50_crops = []\n",
    "crop_save_dir_50x50 = os.path.join(crops_dir, '50x50')\n",
    "\n",
    "list_of_distance_to_land_features = []\n",
    "\n",
    "for idx, row in results_df.iterrows():\n",
    "    list_of_distance_to_land_features.append(row['distance'])\n",
    "    file_path = os.path.join(crop_save_dir_50x50, row['image_id'] + '_' + str(row['blob_id']) + '.png')\n",
    "\n",
    "    image = scipy.misc.imread(file_path, 0)\n",
    "    if image is not None:\n",
    "        list_of_50x50_crops.append(image)\n",
    "    else:\n",
    "        print(\"Cannot open file: \" + file_path)\n",
    "\n",
    "\n",
    "array_of_50x50_crops = np.asarray(list_of_50x50_crops)\n",
    "array_of_50x50_crops_disp = array_of_50x50_crops\n",
    "array_of_distance_to_land_features = np.asarray(list_of_distance_to_land_features)\n",
    "array_of_distance_to_land_features = np.expand_dims(array_of_distance_to_land_features, axis=1)\n",
    "array_of_50x50_crops = np.expand_dims(array_of_50x50_crops, axis=3)"
   ]
  },
  {
   "cell_type": "code",
   "execution_count": 54,
   "metadata": {},
   "outputs": [
    {
     "name": "stdout",
     "output_type": "stream",
     "text": [
      "166/166 [==============================] - 0s 3ms/step\n"
     ]
    }
   ],
   "source": [
    "cnn_50x50.compile(optimizer='rmsprop', loss='categorical_crossentropy', metrics=['accuracy'])\n",
    "predictions = cnn_50x50.predict([array_of_50x50_crops, array_of_distance_to_land_features], batch_size=32, verbose=1)\n",
    "preds = predictions[:, [0, 1, 2]].tolist()"
   ]
  },
  {
   "cell_type": "code",
   "execution_count": 83,
   "metadata": {},
   "outputs": [
    {
     "name": "stdout",
     "output_type": "stream",
     "text": [
      "(166, 3)\n"
     ]
    }
   ],
   "source": [
    "print(predictions.shape)\n"
   ]
  },
  {
   "cell_type": "code",
   "execution_count": 164,
   "metadata": {
    "scrolled": false
   },
   "outputs": [
    {
     "name": "stdout",
     "output_type": "stream",
     "text": [
      "------------------ Crop: 100 ------------------\n",
      "Oil: 0.0\n",
      "Turbine: 0.0\n",
      "Other: 1.0\n"
     ]
    },
    {
     "data": {
      "image/png": "[encoded data removed]",
      "text/plain": [
       "<matplotlib.figure.Figure at 0x7f77084720b8>"
      ]
     },
     "metadata": {},
     "output_type": "display_data"
    },
    {
     "name": "stdout",
     "output_type": "stream",
     "text": [
      "Conv Layer 1\n",
      "Conv Layer 3\n",
      "Conv Layer 5\n",
      "Conv Layer 7\n",
      "Conv Layer 10\n",
      "Conv Layer 14\n"
     ]
    },
    {
     "data": {
      "image/png": "[encoded data removed]",
      "text/plain": [
       "<matplotlib.figure.Figure at 0x7f7707ce8fd0>"
      ]
     },
     "metadata": {},
     "output_type": "display_data"
    },
    {
     "data": {
      "image/png": "[encoded data removed]",
      "text/plain": [
       "<matplotlib.figure.Figure at 0x7f770766ec88>"
      ]
     },
     "metadata": {},
     "output_type": "display_data"
    },
    {
     "data": {
      "image/png": "[encoded data removed]",
      "text/plain": [
       "<matplotlib.figure.Figure at 0x7f77392f2cf8>"
      ]
     },
     "metadata": {},
     "output_type": "display_data"
    }
   ],
   "source": [
    "fig_size = plt.rcParams[\"figure.figsize\"]\n",
    "fig_size[0] = 10\n",
    "fig_size[1] = 5\n",
    "\n",
    "x = 100 #crop of interest\n",
    "models_conv_layers = [19, 17, 15, 13, 10, 6]\n",
    "l = cnn_50x50.layers                                                \n",
    "\n",
    "def get_cm(inp, label):\n",
    "    conv = conv_fn([inp,0])[0][0,:,:,label]\n",
    "#     print(conv.shape)\n",
    "#     print(conv)\n",
    "    new_array =  scipy.misc.imresize(conv, (50,50), interp='nearest')\n",
    "#     print(new_array)\n",
    "    return new_array\n",
    "\n",
    "print(\"------------------ Crop: \" + str(x) + \" ------------------\")\n",
    "print(\"Oil: \" + str(round(predictions[0][0],2)))\n",
    "print(\"Turbine: \" + str(round(predictions[0][1],2)))\n",
    "print(\"Other: \" + str(round(predictions[0][2],2)))\n",
    "plt.imshow(array_of_50x50_crops_disp[x], cmap='Greys_r')\n",
    "plt.show()\n",
    "classes = ['Oil', 'Turbine', 'Other']\n",
    "input1 = np.expand_dims(array_of_50x50_crops[x], 0)\n",
    "input2 = np.expand_dims(array_of_distance_to_land_features[x], 0)\n",
    "for n in models_conv_layers:\n",
    "    print(\"Conv Layer \" + str(20 - n))\n",
    "    conv_fn = K.function([l[0].input, K.learning_phase()], [l[-n].output])\n",
    "    if n == 6:\n",
    "        for n in range(0, 3):\n",
    "#            print(classes[n])\n",
    "            cm = get_cm(input1, n)\n",
    "#             for t in range(0, 50):\n",
    "#                 print(np.min(cm[t]), np.max(cm[t]))\n",
    "            plt.figure(figsize=(10,5))\n",
    "            plt.imshow(np.squeeze(array_of_50x50_crops_disp[x]), cmap='Greys_r')\n",
    "            plt.imshow(cm, cmap=\"cool\", alpha=0.5)\n",
    "            plt.show()\n",
    "#     if n == 19:\n",
    "#         for n in range(0, 32):\n",
    "#             cm = get_cm(input1, n)\n",
    "#             print(str(n))\n",
    "#             plt.figure(figsize=(10,5))\n",
    "#             plt.imshow(np.squeeze(array_of_50x50_crops_disp[x]), cmap='Greys_r')\n",
    "#             plt.imshow(cm, cmap=\"cool\", alpha=0.5)\n",
    "#             plt.show()\n",
    "            \n",
    "\n",
    "    # Possible values are: Accent, Accent_r, Blues, Blues_r, BrBG, BrBG_r, BuGn, BuGn_r, BuPu, BuPu_r, CMRmap, \n",
    "#     CMRmap_r, Dark2, Dark2_r, GnBu, GnBu_r, Greens, Greens_r, Greys, Greys_r, OrRd, OrRd_r, Oranges, Oranges_r, \n",
    "#     PRGn, PRGn_r, Paired, Paired_r, Pastel1, Pastel1_r, Pastel2, Pastel2_r, PiYG, PiYG_r, PuBu, PuBuGn, PuBuGn_r,\n",
    "#     PuBu_r, PuOr, PuOr_r, PuRd, PuRd_r, Purples, Purples_r, RdBu, RdBu_r, RdGy, RdGy_r, RdPu, RdPu_r, RdYlBu, RdYlBu_r, \n",
    "#     RdYlGn, RdYlGn_r, Reds, Reds_r, Set1, Set1_r, Set2, Set2_r, Set3, Set3_r, Spectral, Spectral_r, Vega10, Vega10_r, \n",
    "#     Vega20, Vega20_r, Vega20b, Vega20b_r, Vega20c, Vega20c_r, Wistia, Wistia_r, YlGn, YlGnBu, YlGnBu_r, YlGn_r, YlOrBr, \n",
    "#     YlOrBr_r, YlOrRd, YlOrRd_r, afmhot, afmhot_r, autumn, autumn_r, binary, binary_r, bone, bone_r, brg, brg_r, bwr, \n",
    "#     bwr_r, cool, cool_r, coolwarm, coolwarm_r, copper, copper_r, cubehelix, cubehelix_r, flag, flag_r, gist_earth, \n",
    "#     gist_earth_r, gist_gray, gist_gray_r, gist_heat, gist_heat_r, gist_ncar, gist_ncar_r, gist_rainbow, gist_rainbow_r, \n",
    "#     gist_stern, gist_stern_r, gist_yarg, gist_yarg_r, gnuplot, gnuplot2, gnuplot2_r, gnuplot_r, gray, gray_r, hot, hot_r, \n",
    "#     hsv, hsv_r, inferno, inferno_r, jet, jet_r, magma, magma_r, nipy_spectral, nipy_spectral_r, ocean, ocean_r, pink, \n",
    "#     pink_r, plasma, plasma_r, prism, prism_r, rainbow, rainbow_r, seismic, seismic_r, spectral, spectral_r, spring, \n",
    "#     spring_r, summer, summer_r, tab10, tab10_r, tab20, tab20_r, tab20b, tab20b_r, tab20c, tab20c_r, terrain, \n",
    "#     terrain_r, viridis, viridis_r, winter, winter_r"
   ]
  },
  {
   "cell_type": "code",
   "execution_count": null,
   "metadata": {
    "collapsed": true
   },
   "outputs": [],
   "source": []
  },
  {
   "cell_type": "code",
   "execution_count": null,
   "metadata": {
    "collapsed": true
   },
   "outputs": [],
   "source": []
  }
 ],
 "metadata": {
  "kernelspec": {
   "display_name": "Python 3",
   "language": "python",
   "name": "python3"
  },
  "language_info": {
   "codemirror_mode": {
    "name": "ipython",
    "version": 3
   },
   "file_extension": ".py",
   "mimetype": "text/x-python",
   "name": "python",
   "nbconvert_exporter": "python",
   "pygments_lexer": "ipython3",
   "version": "3.6.3"
  }
 },
 "nbformat": 4,
 "nbformat_minor": 1
}
